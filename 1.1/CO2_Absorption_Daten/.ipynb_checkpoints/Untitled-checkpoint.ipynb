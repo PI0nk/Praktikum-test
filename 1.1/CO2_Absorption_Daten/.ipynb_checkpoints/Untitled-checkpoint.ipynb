{
 "cells": [
  {
   "cell_type": "code",
   "execution_count": 32,
   "metadata": {},
   "outputs": [
    {
     "ename": "LoadError",
     "evalue": "MethodError: no method matching Int64(::String)\nClosest candidates are:\n  Int64(!Matched::Union{Bool, Int32, Int64, UInt32, UInt64, UInt8, Int128, Int16, Int8, UInt128, UInt16}) at boot.jl:708\n  Int64(!Matched::Ptr) at boot.jl:718\n  Int64(!Matched::Float32) at float.jl:706\n  ...",
     "output_type": "error",
     "traceback": [
      "MethodError: no method matching Int64(::String)\nClosest candidates are:\n  Int64(!Matched::Union{Bool, Int32, Int64, UInt32, UInt64, UInt8, Int128, Int16, Int8, UInt128, UInt16}) at boot.jl:708\n  Int64(!Matched::Ptr) at boot.jl:718\n  Int64(!Matched::Float32) at float.jl:706\n  ...",
      "",
      "Stacktrace:",
      " [1] top-level scope at .\\In[32]:12",
      " [2] include_string(::Function, ::Module, ::String, ::String) at .\\loading.jl:1091",
      " [3] execute_code(::String, ::String) at C:\\Users\\jesco\\.julia\\packages\\IJulia\\a1SNk\\src\\execute_request.jl:27",
      " [4] execute_request(::ZMQ.Socket, ::IJulia.Msg) at C:\\Users\\jesco\\.julia\\packages\\IJulia\\a1SNk\\src\\execute_request.jl:86",
      " [5] #invokelatest#1 at .\\essentials.jl:710 [inlined]",
      " [6] invokelatest at .\\essentials.jl:709 [inlined]",
      " [7] eventloop(::ZMQ.Socket) at C:\\Users\\jesco\\.julia\\packages\\IJulia\\a1SNk\\src\\eventloop.jl:8",
      " [8] (::IJulia.var\"#15#18\")() at .\\task.jl:356"
     ]
    }
   ],
   "source": [
    "müll = []\n",
    "\n",
    "\n",
    "f = readlines(\"versuchsteil1.lab\")\n",
    "fc = zeros(1)\n",
    "n = zeros(1)\n",
    "t = zeros(1)\n",
    "E = zeros(1)\n",
    "\n",
    "for i in 1:length(f)\n",
    "    if i > 22 && i < (5081-22)\n",
    "        push!(fc,Int(f[i]))\n",
    "    end\n",
    "end\n",
    "    \n",
    "for i in 1:(5081-22)\n",
    "    s_arr = split(fc[i],'\\t')\n",
    "    n.append(int(s_arr[0]))\n",
    "    t.append(float(s_arr[1]))\n",
    "    E.append(float(s_arr[2]))\n",
    "end\n",
    "    "
   ]
  },
  {
   "cell_type": "code",
   "execution_count": 26,
   "metadata": {},
   "outputs": [
    {
     "data": {
      "text/plain": [
       "1-element Array{Float64,1}:\n",
       " 0.0"
      ]
     },
     "execution_count": 26,
     "metadata": {},
     "output_type": "execute_result"
    }
   ],
   "source": [
    "fc"
   ]
  },
  {
   "cell_type": "code",
   "execution_count": null,
   "metadata": {},
   "outputs": [],
   "source": []
  }
 ],
 "metadata": {
  "kernelspec": {
   "display_name": "Julia 1.5.2",
   "language": "julia",
   "name": "julia-1.5"
  },
  "language_info": {
   "file_extension": ".jl",
   "mimetype": "application/julia",
   "name": "julia",
   "version": "1.5.2"
  }
 },
 "nbformat": 4,
 "nbformat_minor": 4
}
