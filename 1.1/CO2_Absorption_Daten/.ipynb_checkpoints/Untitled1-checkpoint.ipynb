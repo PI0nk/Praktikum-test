{
 "cells": [
  {
   "cell_type": "code",
   "execution_count": 77,
   "metadata": {},
   "outputs": [],
   "source": [
    "import sys\n",
    "import re\n",
    "import numpy as np\n",
    "import matplotlib.pyplot as plot\n",
    "import scipy as scp\n",
    "from scipy import optimize\n",
    "from scipy import stats\n",
    "plot.rcParams.update({'font.size': 20})\n",
    "import pandas as pd"
   ]
  },
  {
   "cell_type": "code",
   "execution_count": 78,
   "metadata": {},
   "outputs": [],
   "source": [
    "from os import listdir\n",
    "from os.path import isfile, join\n",
    "mypath = \"C:\\\\Users\\\\jesco\\\\Desktop\\\\Praktikum b\\\\1.1\\\\CO2_Absorption_Daten\\\\Teil3\"\n",
    "onlyfiles = [f for f in listdir(mypath) if isfile(join(mypath, f))]"
   ]
  },
  {
   "cell_type": "code",
   "execution_count": 80,
   "metadata": {},
   "outputs": [],
   "source": [
    "files = []\n",
    "filesUn = []\n",
    "for f in onlyfiles:\n",
    "    if \".xlsx\" in f or \".ipynb\" in f:\n",
    "        continue\n",
    "    else:\n",
    "        filesUn.append(f)\n",
    "        if \"txt\" in f:\n",
    "            files.append(re.split('.txt',f)[0])\n",
    "        else:\n",
    "            files.append(re.split('.lab',f)[0])"
   ]
  },
  {
   "cell_type": "code",
   "execution_count": 83,
   "metadata": {
    "scrolled": true
   },
   "outputs": [],
   "source": [
    "for i in range(len(files)):\n",
    "    f = open(\"Teil3\\{0}\".format(filesUn[i]))\n",
    "    lines = f.readlines()\n",
    "    c = len(lines)\n",
    "    \n",
    "    müll = []\n",
    "    n = []\n",
    "    t = []\n",
    "    E = []\n",
    "    A = []\n",
    "    B = []\n",
    "\n",
    "    #for i in range(22):\n",
    "    #    müll.append(f.readline())\n",
    "    for j in range(c):\n",
    "        s = lines[j]\n",
    "        s_arr = re.split('\\t',s)\n",
    "        n.append(float(s_arr[0]))\n",
    "        t.append(float(s_arr[1]))\n",
    "        E.append(float(s_arr[2]))\n",
    "        A.append(float(s_arr[3]))\n",
    "        B.append(float(s_arr[4]))\n",
    "\n",
    "    d = pd.DataFrame([t,E,A,B])\n",
    "    d.T.to_excel(\"Teil3\\{0}.{1}\".format(files[i],\"xlsx\"))"
   ]
  },
  {
   "cell_type": "code",
   "execution_count": 35,
   "metadata": {},
   "outputs": [],
   "source": []
  },
  {
   "cell_type": "code",
   "execution_count": 36,
   "metadata": {},
   "outputs": [],
   "source": []
  },
  {
   "cell_type": "code",
   "execution_count": null,
   "metadata": {},
   "outputs": [],
   "source": []
  }
 ],
 "metadata": {
  "kernelspec": {
   "display_name": "Python 3",
   "language": "python",
   "name": "python3"
  },
  "language_info": {
   "codemirror_mode": {
    "name": "ipython",
    "version": 3
   },
   "file_extension": ".py",
   "mimetype": "text/x-python",
   "name": "python",
   "nbconvert_exporter": "python",
   "pygments_lexer": "ipython3",
   "version": "3.8.5"
  }
 },
 "nbformat": 4,
 "nbformat_minor": 4
}
