{
 "cells": [
  {
   "cell_type": "code",
   "execution_count": 88,
   "metadata": {},
   "outputs": [],
   "source": [
    "import sys\n",
    "import re\n",
    "import numpy as np\n",
    "import matplotlib.pyplot as plot\n",
    "import scipy as scp\n",
    "from scipy import optimize\n",
    "from scipy import stats\n",
    "plot.rcParams.update({'font.size': 20})\n",
    "import pandas as pd"
   ]
  },
  {
   "cell_type": "code",
   "execution_count": 89,
   "metadata": {},
   "outputs": [],
   "source": [
    "from os import listdir\n",
    "from os.path import isfile, join\n",
    "#mypath = \"C:\\\\Users\\\\jesco\\\\Desktop\\\\Praktikum b\\\\1.1\\\\CO2_Absorption_Daten\\\\Teil3\"\n",
    "mypath = \"C:\\\\Users\\\\jesco\\\\Desktop\\\\Praktikum b\\\\1.1\\\\Daten\"\n",
    "onlyfiles = [f for f in listdir(mypath) if isfile(join(mypath, f))]"
   ]
  },
  {
   "cell_type": "code",
   "execution_count": 90,
   "metadata": {},
   "outputs": [],
   "source": [
    "files = []\n",
    "filesUn = []\n",
    "for f in onlyfiles:\n",
    "    if \".xlsx\" in f or \".ipynb\" in f:\n",
    "        continue\n",
    "    else:\n",
    "        filesUn.append(f)\n",
    "        if \"txt\" in f:\n",
    "            files.append(re.split('.txt',f)[0])\n",
    "        else:\n",
    "            files.append(re.split('.lab',f)[0])"
   ]
  },
  {
   "cell_type": "code",
   "execution_count": 92,
   "metadata": {
    "scrolled": true
   },
   "outputs": [
    {
     "ename": "FileNotFoundError",
     "evalue": "[Errno 2] No such file or directory: '10ml.lab'",
     "output_type": "error",
     "traceback": [
      "\u001b[1;31m---------------------------------------------------------------------------\u001b[0m",
      "\u001b[1;31mFileNotFoundError\u001b[0m                         Traceback (most recent call last)",
      "\u001b[1;32m<ipython-input-92-a539dc190ae0>\u001b[0m in \u001b[0;36m<module>\u001b[1;34m\u001b[0m\n\u001b[0;32m      1\u001b[0m \u001b[1;32mfor\u001b[0m \u001b[0mi\u001b[0m \u001b[1;32min\u001b[0m \u001b[0mrange\u001b[0m\u001b[1;33m(\u001b[0m\u001b[0mlen\u001b[0m\u001b[1;33m(\u001b[0m\u001b[0mfiles\u001b[0m\u001b[1;33m)\u001b[0m\u001b[1;33m)\u001b[0m\u001b[1;33m:\u001b[0m\u001b[1;33m\u001b[0m\u001b[1;33m\u001b[0m\u001b[0m\n\u001b[0;32m      2\u001b[0m     \u001b[1;31m#f = open(\"Teil3\\{0}\".format(filesUn[i]))\u001b[0m\u001b[1;33m\u001b[0m\u001b[1;33m\u001b[0m\u001b[1;33m\u001b[0m\u001b[0m\n\u001b[1;32m----> 3\u001b[1;33m     \u001b[0mf\u001b[0m \u001b[1;33m=\u001b[0m \u001b[0mopen\u001b[0m\u001b[1;33m(\u001b[0m\u001b[1;34m\"{0}\"\u001b[0m\u001b[1;33m.\u001b[0m\u001b[0mformat\u001b[0m\u001b[1;33m(\u001b[0m\u001b[0mfilesUn\u001b[0m\u001b[1;33m[\u001b[0m\u001b[0mi\u001b[0m\u001b[1;33m]\u001b[0m\u001b[1;33m)\u001b[0m\u001b[1;33m)\u001b[0m\u001b[1;33m\u001b[0m\u001b[1;33m\u001b[0m\u001b[0m\n\u001b[0m\u001b[0;32m      4\u001b[0m     \u001b[0mlines\u001b[0m \u001b[1;33m=\u001b[0m \u001b[0mf\u001b[0m\u001b[1;33m.\u001b[0m\u001b[0mreadlines\u001b[0m\u001b[1;33m(\u001b[0m\u001b[1;33m)\u001b[0m\u001b[1;33m\u001b[0m\u001b[1;33m\u001b[0m\u001b[0m\n\u001b[0;32m      5\u001b[0m     \u001b[0mc\u001b[0m \u001b[1;33m=\u001b[0m \u001b[0mlen\u001b[0m\u001b[1;33m(\u001b[0m\u001b[0mlines\u001b[0m\u001b[1;33m)\u001b[0m\u001b[1;33m\u001b[0m\u001b[1;33m\u001b[0m\u001b[0m\n",
      "\u001b[1;31mFileNotFoundError\u001b[0m: [Errno 2] No such file or directory: '10ml.lab'"
     ]
    }
   ],
   "source": [
    "for i in range(len(files)):\n",
    "    #f = open(\"Teil3\\{0}\".format(filesUn[i]))\n",
    "    f = open(\"{0}\".format(filesUn[i]))\n",
    "    lines = f.readlines()\n",
    "    c = len(lines)\n",
    "    \n",
    "    müll = []\n",
    "    n = []\n",
    "    t = []\n",
    "    E = []\n",
    "    A = []\n",
    "    B = []\n",
    "\n",
    "    #for i in range(22):\n",
    "    #    müll.append(f.readline())\n",
    "    for j in range(c):\n",
    "        s = lines[j]\n",
    "        s_arr = re.split('\\t',s)\n",
    "        n.append(float(s_arr[0]))\n",
    "        t.append(float(s_arr[1]))\n",
    "        E.append(float(s_arr[2]))\n",
    "        A.append(float(s_arr[3]))\n",
    "        B.append(float(s_arr[4]))\n",
    "\n",
    "    d = pd.DataFrame([t,E,A,B])\n",
    "    d.T.to_excel(\"Teil3\\{0}.{1}\".format(files[i],\"xlsx\"))"
   ]
  },
  {
   "cell_type": "code",
   "execution_count": 35,
   "metadata": {},
   "outputs": [],
   "source": []
  },
  {
   "cell_type": "code",
   "execution_count": 36,
   "metadata": {},
   "outputs": [],
   "source": []
  },
  {
   "cell_type": "code",
   "execution_count": null,
   "metadata": {},
   "outputs": [],
   "source": []
  }
 ],
 "metadata": {
  "kernelspec": {
   "display_name": "Python 3",
   "language": "python",
   "name": "python3"
  },
  "language_info": {
   "codemirror_mode": {
    "name": "ipython",
    "version": 3
   },
   "file_extension": ".py",
   "mimetype": "text/x-python",
   "name": "python",
   "nbconvert_exporter": "python",
   "pygments_lexer": "ipython3",
   "version": "3.8.5"
  }
 },
 "nbformat": 4,
 "nbformat_minor": 4
}
