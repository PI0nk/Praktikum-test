{
 "cells": [
  {
   "cell_type": "code",
   "execution_count": 1,
   "metadata": {},
   "outputs": [],
   "source": [
    "import sys\n",
    "import re\n",
    "import numpy as np\n",
    "import matplotlib.pyplot as plot\n",
    "import scipy as scp\n",
    "from scipy import optimize\n",
    "from scipy import stats\n",
    "plot.rcParams.update({'font.size': 20})\n",
    "import pandas as pd"
   ]
  },
  {
   "cell_type": "code",
   "execution_count": 2,
   "metadata": {},
   "outputs": [],
   "source": [
    "from os import listdir\n",
    "from os.path import isfile, join\n",
    "#mypath = \"C:\\\\Users\\\\jesco\\\\Desktop\\\\Praktikum b\\\\1.1\\\\CO2_Absorption_Daten\\\\Teil3\"\n",
    "mypath = \"C:\\\\Users\\\\jesco\\\\Desktop\\\\Praktikum b\\\\1.1\\\\Daten\"\n",
    "onlyfiles = [f for f in listdir(mypath) if isfile(join(mypath, f))]"
   ]
  },
  {
   "cell_type": "code",
   "execution_count": 3,
   "metadata": {},
   "outputs": [
    {
     "name": "stdout",
     "output_type": "stream",
     "text": [
      "10ml.lab\n",
      "15ml.lab\n",
      "20ml.lab\n",
      "2ml.lab\n",
      "30ml.lab\n",
      "3ml.lab\n",
      "45ml.lab\n",
      "4ml.lab\n",
      "5mlneu.lab\n",
      "60ml.lab\n",
      "Glühwendel.txt\n",
      "Luft.lab\n",
      "Materialien.txt\n",
      "Versuchsteil1.lab\n",
      "Versuchsteil2.lab\n",
      "vollco2.lab\n"
     ]
    }
   ],
   "source": [
    "files = []\n",
    "filesUn = []\n",
    "for f in onlyfiles:\n",
    "    if \".xlsx\" in f or \".ipynb\" in f or \".png\" in f:\n",
    "        continue\n",
    "    else:\n",
    "        print(f)\n",
    "        filesUn.append(f)\n",
    "        if \"txt\" in f:\n",
    "            files.append(re.split('.txt',f)[0])\n",
    "        else:\n",
    "            files.append(re.split('.lab',f)[0])"
   ]
  },
  {
   "cell_type": "code",
   "execution_count": 25,
   "metadata": {
    "scrolled": true
   },
   "outputs": [],
   "source": [
    "for j in range(len(files)):\n",
    "    f = open(\"{0}\".format(filesUn[j]))\n",
    "    lines = f.readlines()\n",
    "    \n",
    "    müll = []\n",
    "    n = []\n",
    "    t = []\n",
    "    E = []\n",
    "\n",
    "    lines = lines[22:-50]\n",
    "    for i in range(len(lines)):\n",
    "        s = lines[i]\n",
    "        s_arr = re.split('\\t',s)            \n",
    "        \n",
    "        if len(s_arr) < 1:\n",
    "            continue\n",
    "\n",
    "        n.append(int(s_arr[0]))\n",
    "        t.append(float(s_arr[1]))\n",
    "        E.append(float(s_arr[2])) \n",
    "\n",
    "    d = pd.DataFrame([n,t,E])\n",
    "    d.T.to_excel(\"Teil3\\{0}.{1}\".format(files[j],\"xlsx\"))"
   ]
  },
  {
   "cell_type": "code",
   "execution_count": null,
   "metadata": {},
   "outputs": [],
   "source": []
  },
  {
   "cell_type": "code",
   "execution_count": null,
   "metadata": {},
   "outputs": [],
   "source": []
  },
  {
   "cell_type": "code",
   "execution_count": null,
   "metadata": {},
   "outputs": [],
   "source": []
  }
 ],
 "metadata": {
  "kernelspec": {
   "display_name": "Python 3",
   "language": "python",
   "name": "python3"
  },
  "language_info": {
   "codemirror_mode": {
    "name": "ipython",
    "version": 3
   },
   "file_extension": ".py",
   "mimetype": "text/x-python",
   "name": "python",
   "nbconvert_exporter": "python",
   "pygments_lexer": "ipython3",
   "version": "3.8.5"
  }
 },
 "nbformat": 4,
 "nbformat_minor": 4
}
