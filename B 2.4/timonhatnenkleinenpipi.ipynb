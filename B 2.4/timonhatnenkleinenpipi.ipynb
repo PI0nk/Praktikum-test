{
 "metadata": {
  "language_info": {
   "codemirror_mode": {
    "name": "ipython",
    "version": 3
   },
   "file_extension": ".py",
   "mimetype": "text/x-python",
   "name": "python",
   "nbconvert_exporter": "python",
   "pygments_lexer": "ipython3",
   "version": "3.8.5"
  },
  "orig_nbformat": 2,
  "kernelspec": {
   "name": "python385jvsc74a57bd03ece809fbf19ee3a15733538f668f5e06cc182e85512bc01ef78face65b7c552",
   "display_name": "Python 3.8.5 32-bit"
  }
 },
 "nbformat": 4,
 "nbformat_minor": 2,
 "cells": [
  {
   "cell_type": "code",
   "execution_count": 1,
   "metadata": {},
   "outputs": [],
   "source": [
    "import numpy as np"
   ]
  },
  {
   "cell_type": "code",
   "execution_count": 29,
   "metadata": {},
   "outputs": [],
   "source": [
    "def eliminate_skynet(arr):\n",
    "    temp = []\n",
    "    for i,e in enumerate(arr):\n",
    "        if e in arr[i+1:]:\n",
    "            continue\n",
    "        else:\n",
    "            temp.append(e)\n",
    "    return temp"
   ]
  },
  {
   "cell_type": "code",
   "execution_count": 31,
   "metadata": {
    "tags": []
   },
   "outputs": [
    {
     "output_type": "stream",
     "name": "stdout",
     "text": [
      "[1, 8, 9, 17, 37, 40, 51, 53, 56, 58, 66, 77]\n[1]\nFalse\n[1, 8]\nTrue\n[1, 8, 8]\nTrue\n[1, 8, 8, 17]\nTrue\n[1, 8, 8, 17, 37]\nTrue\n[1, 8, 8, 17, 37, 37]\nTrue\n[1, 8, 8, 17, 37, 37, 51]\nTrue\n[1, 8, 8, 17, 37, 37, 51, 51]\nTrue\n[1, 8, 8, 17, 37, 37, 51, 51, 53]\nTrue\n[1, 8, 8, 17, 37, 37, 51, 51, 53, 56]\nTrue\n[1, 8, 8, 17, 37, 37, 51, 51, 53, 56, 66]\nTrue\n"
     ]
    },
    {
     "output_type": "error",
     "ename": "IndexError",
     "evalue": "list index out of range",
     "traceback": [
      "\u001b[1;31m---------------------------------------------------------------------------\u001b[0m",
      "\u001b[1;31mIndexError\u001b[0m                                Traceback (most recent call last)",
      "\u001b[1;32m<ipython-input-31-47985583a40b>\u001b[0m in \u001b[0;36m<module>\u001b[1;34m\u001b[0m\n\u001b[0;32m     16\u001b[0m                 \u001b[0mvals_c\u001b[0m\u001b[1;33m.\u001b[0m\u001b[0mappend\u001b[0m\u001b[1;33m(\u001b[0m\u001b[0mmax\u001b[0m\u001b[1;33m(\u001b[0m\u001b[0mvals\u001b[0m\u001b[1;33m[\u001b[0m\u001b[0mi\u001b[0m\u001b[1;33m-\u001b[0m\u001b[1;36m1\u001b[0m\u001b[1;33m:\u001b[0m\u001b[0mi\u001b[0m\u001b[1;33m]\u001b[0m\u001b[1;33m)\u001b[0m\u001b[1;33m)\u001b[0m\u001b[1;33m\u001b[0m\u001b[1;33m\u001b[0m\u001b[0m\n\u001b[0;32m     17\u001b[0m                 \u001b[0mcorr\u001b[0m \u001b[1;33m=\u001b[0m \u001b[1;32mTrue\u001b[0m\u001b[1;33m\u001b[0m\u001b[1;33m\u001b[0m\u001b[0m\n\u001b[1;32m---> 18\u001b[1;33m             \u001b[1;32melif\u001b[0m \u001b[0mabs\u001b[0m\u001b[1;33m(\u001b[0m\u001b[0mv\u001b[0m\u001b[1;33m-\u001b[0m\u001b[0mvals\u001b[0m\u001b[1;33m[\u001b[0m\u001b[0mi\u001b[0m\u001b[1;33m+\u001b[0m\u001b[1;36m1\u001b[0m\u001b[1;33m]\u001b[0m\u001b[1;33m)\u001b[0m\u001b[1;33m<\u001b[0m\u001b[0mdist\u001b[0m\u001b[1;33m:\u001b[0m\u001b[1;33m\u001b[0m\u001b[1;33m\u001b[0m\u001b[0m\n\u001b[0m\u001b[0;32m     19\u001b[0m                 \u001b[0mvals_c\u001b[0m\u001b[1;33m.\u001b[0m\u001b[0mappend\u001b[0m\u001b[1;33m(\u001b[0m\u001b[0mmax\u001b[0m\u001b[1;33m(\u001b[0m\u001b[0mvals\u001b[0m\u001b[1;33m[\u001b[0m\u001b[0mi\u001b[0m\u001b[1;33m:\u001b[0m\u001b[0mi\u001b[0m\u001b[1;33m+\u001b[0m\u001b[1;36m1\u001b[0m\u001b[1;33m]\u001b[0m\u001b[1;33m)\u001b[0m\u001b[1;33m)\u001b[0m\u001b[1;33m\u001b[0m\u001b[1;33m\u001b[0m\u001b[0m\n\u001b[0;32m     20\u001b[0m                 \u001b[0mcorr\u001b[0m \u001b[1;33m=\u001b[0m \u001b[1;32mTrue\u001b[0m\u001b[1;33m\u001b[0m\u001b[1;33m\u001b[0m\u001b[0m\n",
      "\u001b[1;31mIndexError\u001b[0m: list index out of range"
     ]
    }
   ],
   "source": [
    "vals = []\n",
    "for i in range(12):\n",
    "    vals.append(np.random.randint(100))\n",
    "vals.sort()\n",
    "print(vals)\n",
    "\n",
    "corr = True\n",
    "while corr:\n",
    "    dist = 5\n",
    "    corr = False\n",
    "    vals_c = []\n",
    "\n",
    "    for i,v in enumerate(vals):\n",
    "        if i > 0 and i < len(vals)-1:\n",
    "            if abs(vals[i-1]-v)<dist:\n",
    "                vals_c.append(max(vals[i-1:i]))\n",
    "                corr = True\n",
    "            elif abs(v-vals[i+1])<dist:\n",
    "                vals_c.append(max(vals[i:i+1]))\n",
    "                corr = True\n",
    "            else:\n",
    "                vals_c.append(v)\n",
    "        else:\n",
    "            vals_c.append(v)\n",
    "\n",
    "        print(vals_c)\n",
    "        print(corr) \n",
    "    vals = eliminate_skynet(vals_c)"
   ]
  },
  {
   "source": [
    "vals"
   ],
   "cell_type": "code",
   "metadata": {},
   "execution_count": 17,
   "outputs": [
    {
     "output_type": "execute_result",
     "data": {
      "text/plain": [
       "[]"
      ]
     },
     "metadata": {},
     "execution_count": 17
    }
   ]
  },
  {
   "cell_type": "code",
   "execution_count": null,
   "metadata": {},
   "outputs": [],
   "source": []
  }
 ]
}