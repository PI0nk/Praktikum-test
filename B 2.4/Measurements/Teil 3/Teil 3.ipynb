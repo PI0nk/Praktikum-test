{
 "cells": [
  {
   "cell_type": "code",
   "execution_count": 1,
   "source": [
    "import matplotlib.pyplot as plt\r\n",
    "import numpy as np\r\n",
    "import scipy as scp\r\n",
    "import sys\r\n",
    "import os\r\n",
    "from scipy.optimize import curve_fit\r\n",
    "font = {'family' : 'normal',\r\n",
    "        'size'   : 25}\r\n",
    "\r\n",
    "plt.rc('font', **font)"
   ],
   "outputs": [],
   "metadata": {}
  },
  {
   "cell_type": "code",
   "execution_count": 2,
   "source": [
    "def clamp(a):\r\n",
    "    try:\r\n",
    "        c = np.copy(a)\r\n",
    "        for i,e in enumerate(a):\r\n",
    "            if e > 0:\r\n",
    "                c[i] = a[i] \r\n",
    "            else:\r\n",
    "                c[i] = 0\r\n",
    "        return c\r\n",
    "    except:\r\n",
    "        if a > 0:\r\n",
    "            return a\r\n",
    "        else:\r\n",
    "            return 0\r\n",
    "\r\n",
    "def poli(x,a,b,c,d,e,f,g,h,i,j,k,l,m):\r\n",
    "    return a + b*x + c*x**2 + d*x**3 + e*x**4 + f*x**5 + g*x**6 + h*x**7 + i*x**8 + j*x**9 + k*x**10 + l*x**11 + m*x**12\r\n",
    "\r\n",
    "def fit_func(x,a,b,c):\r\n",
    "    return a*(1-x/b)**c"
   ],
   "outputs": [],
   "metadata": {}
  },
  {
   "cell_type": "code",
   "execution_count": 3,
   "source": [
    "for name in os.listdir(\"Daten\"):\r\n",
    "    plt.figure(figsize=(30,10))\r\n",
    "    file = open(\"Daten/\"+name)\r\n",
    "    lines = file.readlines()\r\n",
    "    xv,yv = [],[]\r\n",
    "    for line in lines:\r\n",
    "        vals = line[:-1].split(\"\\t\")\r\n",
    "        xv.append(float(vals[0])) \r\n",
    "        yv.append(-float(vals[1]))\r\n",
    "\r\n",
    "    popt,_ = curve_fit(fit_func,xv[:3288],yv[:3288],p0=[6.5,55,0.5])\r\n",
    "    print(popt)\r\n",
    "    plt.plot(xv,[fit_func(x,*popt) for x in xv],color=\"red\",label=\"fit (1)\",linewidth=3,linestyle=\"-.\")\r\n",
    "    #popt,_ = curve_fit(poli,xv,yv)\r\n",
    "    #plt.plot(xv,[poli(x,*popt) for x in xv],color=\"orange\",label=\"fit (2)\",linewidth=3,linestyle=\"-.\")\r\n",
    "    #for x in xv:\r\n",
    "    #    if poli(x,*popt) < 0:\r\n",
    "    #        print(x)\r\n",
    "    #        break\r\n",
    "    #plt.plot(xv,[fit_func(x,1.5,56) for x in xv])\r\n",
    "    #plt.ylim(0,6)\r\n",
    "\r\n",
    "    plt.plot(xv,yv,marker=\".\",label=\"Messdaten\")\r\n",
    "    plt.xlabel(\"Temp [°C]\")\r\n",
    "    plt.ylabel(\"M-Feld [A/m]\")\r\n",
    "    plt.legend()\r\n",
    "    file.close()\r\n",
    "    plt.grid(True)\r\n",
    "    file.close()\r\n",
    "plt.savefig(\"..\\..\\Images\\Teil3.png\")"
   ],
   "outputs": [
    {
     "output_type": "stream",
     "name": "stderr",
     "text": [
      "<ipython-input-2-7cd24c119486>:20: RuntimeWarning: invalid value encountered in double_scalars\n",
      "  return a*(1-x/b)**c\n",
      "findfont: Font family ['normal'] not found. Falling back to DejaVu Sans.\n"
     ]
    }
   ],
   "metadata": {}
  },
  {
   "cell_type": "code",
   "execution_count": 5,
   "source": [
    "x_ys0 = [x for i,x in enumerate(xv) if yv[i] < 0]"
   ],
   "outputs": [],
   "metadata": {}
  },
  {
   "cell_type": "code",
   "execution_count": 6,
   "source": [
    "min(x_ys0)"
   ],
   "outputs": [
    {
     "output_type": "execute_result",
     "data": {
      "text/plain": [
       "55.1403147"
      ]
     },
     "metadata": {},
     "execution_count": 6
    }
   ],
   "metadata": {}
  },
  {
   "cell_type": "code",
   "execution_count": 7,
   "source": [
    "nx = []\r\n",
    "dy = []\r\n",
    "for i in range(len(xv)):\r\n",
    "    try:\r\n",
    "        dy.append((yv[i]-yv[i+1])/(xv[i]-xv[i+1]))\r\n",
    "        nx.append((xv[i]+xv[i+1])/2)\r\n",
    "    except:\r\n",
    "        pass"
   ],
   "outputs": [],
   "metadata": {}
  },
  {
   "cell_type": "code",
   "execution_count": 8,
   "source": [
    "plt.plot(nx,dy)"
   ],
   "outputs": [
    {
     "output_type": "execute_result",
     "data": {
      "text/plain": [
       "[<matplotlib.lines.Line2D at 0x2e08f298>]"
      ]
     },
     "metadata": {},
     "execution_count": 8
    },
    {
     "output_type": "display_data",
     "data": {
      "text/plain": [
       "<Figure size 432x288 with 1 Axes>"
      ],
      "image/png": "[encoded data removed]"
     },
     "metadata": {
      "needs_background": "light"
     }
    }
   ],
   "metadata": {}
  },
  {
   "cell_type": "code",
   "execution_count": null,
   "source": [],
   "outputs": [],
   "metadata": {}
  }
 ],
 "metadata": {
  "interpreter": {
   "hash": "3ece809fbf19ee3a15733538f668f5e06cc182e85512bc01ef78face65b7c552"
  },
  "kernelspec": {
   "name": "python3",
   "display_name": "Python 3.8.5 32-bit"
  },
  "language_info": {
   "codemirror_mode": {
    "name": "ipython",
    "version": 3
   },
   "file_extension": ".py",
   "mimetype": "text/x-python",
   "name": "python",
   "nbconvert_exporter": "python",
   "pygments_lexer": "ipython3",
   "version": "3.8.5"
  }
 },
 "nbformat": 4,
 "nbformat_minor": 2
}